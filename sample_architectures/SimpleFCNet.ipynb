{
  "nbformat": 4,
  "nbformat_minor": 0,
  "metadata": {
    "colab": {
      "name": "SimpleFCNet.ipynb",
      "provenance": [],
      "collapsed_sections": []
    },
    "kernelspec": {
      "name": "python3",
      "display_name": "Python 3"
    },
    "language_info": {
      "name": "python"
    },
    "accelerator": "GPU"
  },
  "cells": [
    {
      "cell_type": "markdown",
      "metadata": {
        "id": "7fHV-_a8BO0e"
      },
      "source": [
        "Imports"
      ]
    },
    {
      "cell_type": "code",
      "metadata": {
        "id": "P5UzsRWDALOL"
      },
      "source": [
        "import torch\n",
        "import torch.nn as nn\n",
        "import torch.optim as optim\n",
        "import torch.nn.functional as f\n",
        "import torch.utils.data as DataLoader\n",
        "import torchvision.datasets as datasets\n",
        "import torchvision.transforms as transforms"
      ],
      "execution_count": 17,
      "outputs": []
    },
    {
      "cell_type": "markdown",
      "metadata": {
        "id": "FryCfZhxBRiW"
      },
      "source": [
        "Create Fuly Connected Network"
      ]
    },
    {
      "cell_type": "code",
      "metadata": {
        "id": "BjYABArLBUkB"
      },
      "source": [
        "class NN(nn.Module):\n",
        "  def __init__(self,input_size,num_classes):\n",
        "    super(NN,self).__init__()\n",
        "    self.fc1 = nn.Linear(input_size,50)\n",
        "    self.fc2 = nn.Linear(50,num_classes)\n",
        "  \n",
        "  def forward(self,x):\n",
        "    x = f.relu(self.fc1(x))\n",
        "    x = self.fc2(x)\n",
        "    return x"
      ],
      "execution_count": 18,
      "outputs": []
    },
    {
      "cell_type": "code",
      "metadata": {
        "colab": {
          "base_uri": "https://localhost:8080/"
        },
        "id": "SlW4pztCC1sV",
        "outputId": "194c4915-f760-4ca2-a84d-819309150c19"
      },
      "source": [
        "# Rough Check whether the model is working\n",
        "model = NN(784,10)\n",
        "x = torch.randn((64,784))\n",
        "print(model(x).shape)"
      ],
      "execution_count": 19,
      "outputs": [
        {
          "output_type": "stream",
          "text": [
            "torch.Size([64, 10])\n"
          ],
          "name": "stdout"
        }
      ]
    },
    {
      "cell_type": "markdown",
      "metadata": {
        "id": "obPhCDRjDfhM"
      },
      "source": [
        "Setting up device"
      ]
    },
    {
      "cell_type": "code",
      "metadata": {
        "id": "9OidgluzDq_h"
      },
      "source": [
        "device = torch.device(\"cuda\" if torch.cuda.is_available() else \"cpu\")"
      ],
      "execution_count": 20,
      "outputs": []
    },
    {
      "cell_type": "code",
      "metadata": {
        "colab": {
          "base_uri": "https://localhost:8080/"
        },
        "id": "3Zyv01A4Qt2h",
        "outputId": "346a85f5-d92f-44f4-d868-3a571301e972"
      },
      "source": [
        "device"
      ],
      "execution_count": 21,
      "outputs": [
        {
          "output_type": "execute_result",
          "data": {
            "text/plain": [
              "device(type='cuda')"
            ]
          },
          "metadata": {
            "tags": []
          },
          "execution_count": 21
        }
      ]
    },
    {
      "cell_type": "markdown",
      "metadata": {
        "id": "Kbg5VManD7LC"
      },
      "source": [
        "Hyperparameters"
      ]
    },
    {
      "cell_type": "code",
      "metadata": {
        "id": "CYJOQJDsD8ZT"
      },
      "source": [
        "input_size = 784\n",
        "num_classes = 10\n",
        "learning_rate = 0.001\n",
        "batch_size = 64\n",
        "num_epochs = 1"
      ],
      "execution_count": 22,
      "outputs": []
    },
    {
      "cell_type": "markdown",
      "metadata": {
        "id": "5AOX7GB8EK7a"
      },
      "source": [
        "Load Dataset"
      ]
    },
    {
      "cell_type": "code",
      "metadata": {
        "id": "QEfyI2E7EMSR"
      },
      "source": [
        "train_dataset = datasets.MNIST(root = \"dataset/\",train = True,transform = transforms.ToTensor(),download = True)"
      ],
      "execution_count": 23,
      "outputs": []
    },
    {
      "cell_type": "code",
      "metadata": {
        "id": "hVzTcnKMEjy6"
      },
      "source": [
        "train_loader = DataLoader.DataLoader(dataset=train_dataset,batch_size=64,shuffle=True)"
      ],
      "execution_count": 24,
      "outputs": []
    },
    {
      "cell_type": "code",
      "metadata": {
        "id": "DyKo7D0KE718"
      },
      "source": [
        "test_dataset = train_dataset = datasets.MNIST(root = \"dataset/\",train = False,transform = transforms.ToTensor(),download = True)"
      ],
      "execution_count": 25,
      "outputs": []
    },
    {
      "cell_type": "code",
      "metadata": {
        "id": "SELaqfCXFXmM"
      },
      "source": [
        "test_loader = DataLoader.DataLoader(dataset = test_dataset,batch_size = batch_size,shuffle = True)"
      ],
      "execution_count": 26,
      "outputs": []
    },
    {
      "cell_type": "markdown",
      "metadata": {
        "id": "bnpi01epGVFo"
      },
      "source": [
        "Initialise N/w"
      ]
    },
    {
      "cell_type": "code",
      "metadata": {
        "id": "eCiFXChYGWpU"
      },
      "source": [
        "model = NN(input_size=input_size,num_classes=num_classes).to(device)"
      ],
      "execution_count": 27,
      "outputs": []
    },
    {
      "cell_type": "markdown",
      "metadata": {
        "id": "GeWAVf6bGsfT"
      },
      "source": [
        "Loss and Optimizer"
      ]
    },
    {
      "cell_type": "code",
      "metadata": {
        "id": "VhXvnCDwGtsU"
      },
      "source": [
        "criterion = nn.CrossEntropyLoss()\n",
        "optimizer = optim.Adam(model.parameters(),lr = learning_rate)"
      ],
      "execution_count": 28,
      "outputs": []
    },
    {
      "cell_type": "code",
      "metadata": {
        "id": "eu8n91noHFRz"
      },
      "source": [
        ""
      ],
      "execution_count": 28,
      "outputs": []
    },
    {
      "cell_type": "markdown",
      "metadata": {
        "id": "CGoPvyRXHJ0E"
      },
      "source": [
        "Train N/W"
      ]
    },
    {
      "cell_type": "code",
      "metadata": {
        "colab": {
          "base_uri": "https://localhost:8080/"
        },
        "id": "fBasLN1DHLfI",
        "outputId": "54340e71-18d8-4852-8a54-d5042a939500"
      },
      "source": [
        "for epoch in range(num_epochs):\n",
        "  for batch_idx,(data,targets) in enumerate(train_loader):\n",
        "    #get data to cuda if possible \n",
        "    data = data.to(device = device)\n",
        "    targets = targets.to(device = device)\n",
        "\n",
        "    data = data.reshape(data.shape[0],-1) # Flatten into a single dimension\n",
        "    #forward\n",
        "\n",
        "    scores = model(data)\n",
        "    loss = criterion(scores,targets)\n",
        "\n",
        "    #backward\n",
        "    optimizer.zero_grad()\n",
        "    loss.backward()\n",
        "\n",
        "\n",
        "    #gradient_descent or adam-step\n",
        "    optimizer.step()\n",
        "\n",
        "# Check the accuracy for the training step\n",
        "def check_accuracy(loader,model):\n",
        "  if loader.dataset.train:\n",
        "    print(\"Checking accuracy on training data\")\n",
        "  else:\n",
        "    print(\"Checking accuracy on test data\")\n",
        "\n",
        "  num_correct = 0\n",
        "  num_samples = 0\n",
        "  model.eval()\n",
        "\n",
        "  with torch.no_grad():\n",
        "    for x,y in loader:\n",
        "      x = x.to(device = device)\n",
        "      y = y.to(device = device)\n",
        "      x = x.reshape(x.shape[0],-1)\n",
        "\n",
        "      scores = model(x)\n",
        "      _,predictions = scores.max(1)\n",
        "      num_correct += (predictions == y).sum()\n",
        "      num_samples += predictions.size(0)\n",
        "    print(f' Got {num_correct}/{num_samples} with accuracy ={float(num_correct)/float(num_samples)*100:.2f} ')\n",
        "    model.train()\n",
        "\n",
        "check_accuracy(train_loader,model)\n",
        "check_accuracy(test_loader,model)"
      ],
      "execution_count": 29,
      "outputs": [
        {
          "output_type": "stream",
          "text": [
            "Checking accuracy on training data\n",
            " Got 56045/60000 with accuracy =93.41 \n",
            "Checking accuracy on test data\n",
            " Got 9323/10000 with accuracy =93.23 \n"
          ],
          "name": "stdout"
        }
      ]
    },
    {
      "cell_type": "code",
      "metadata": {
        "id": "weZB9JTbMyeH"
      },
      "source": [
        ""
      ],
      "execution_count": null,
      "outputs": []
    }
  ]
}