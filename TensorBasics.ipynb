{
  "nbformat": 4,
  "nbformat_minor": 0,
  "metadata": {
    "colab": {
      "name": "TensorBasics.ipynb",
      "provenance": [],
      "collapsed_sections": [
        "bqH4RPl8Qb3w",
        "J5vAC1dsV9yD",
        "miIP_GN8wCJy"
      ]
    },
    "kernelspec": {
      "name": "python3",
      "display_name": "Python 3"
    },
    "language_info": {
      "name": "python"
    },
    "accelerator": "GPU"
  },
  "cells": [
    {
      "cell_type": "code",
      "metadata": {
        "id": "Vfl5FjgjQQl8"
      },
      "source": [
        "import torch"
      ],
      "execution_count": 1,
      "outputs": []
    },
    {
      "cell_type": "markdown",
      "metadata": {
        "id": "bqH4RPl8Qb3w"
      },
      "source": [
        "##Tensor Initialisation"
      ]
    },
    {
      "cell_type": "code",
      "metadata": {
        "id": "X4FErbXWQWhf"
      },
      "source": [
        "# Create a 2d tensor ( like array ): \n",
        "#                   [ [1,2,5]\n",
        "#                     [3,4,2] ]\n",
        "\n",
        "tensor = torch.tensor([[1,2,3],[3,4,2]])"
      ],
      "execution_count": 2,
      "outputs": []
    },
    {
      "cell_type": "code",
      "metadata": {
        "colab": {
          "base_uri": "https://localhost:8080/"
        },
        "id": "YScmyAfsQm1f",
        "outputId": "f2533ef0-fe1a-4111-dc98-2a94522e3ea3"
      },
      "source": [
        "print(tensor)"
      ],
      "execution_count": 3,
      "outputs": [
        {
          "output_type": "stream",
          "text": [
            "tensor([[1, 2, 3],\n",
            "        [3, 4, 2]])\n"
          ],
          "name": "stdout"
        }
      ]
    },
    {
      "cell_type": "code",
      "metadata": {
        "id": "mr5Cz805QowU"
      },
      "source": [
        "#Setting the type of tensor and whether to work on CPU or GPU\n",
        "tensor = torch.tensor([[1,2,3],[3,4,2]],dtype = torch.float64,device = \"cuda\")"
      ],
      "execution_count": 4,
      "outputs": []
    },
    {
      "cell_type": "code",
      "metadata": {
        "id": "fjBZqoUXRRuY"
      },
      "source": [
        "#Another thing that is often followed is \n",
        "device = \"cuda\" if torch.cuda.is_available() else \"cpu\""
      ],
      "execution_count": 5,
      "outputs": []
    },
    {
      "cell_type": "code",
      "metadata": {
        "id": "5sGxBQ6LRyzr"
      },
      "source": [
        "# And then instead of specifying device specifically for different systems , above function will automatically manage the device\n",
        "tensor = torch.tensor([[1,2,3],[3,4,2]],dtype = torch.float64,device =device)"
      ],
      "execution_count": 6,
      "outputs": []
    },
    {
      "cell_type": "code",
      "metadata": {
        "colab": {
          "base_uri": "https://localhost:8080/"
        },
        "id": "S3Eyi_kbSDmL",
        "outputId": "79d8ea59-6f52-4ff8-fcbd-44bb788e876d"
      },
      "source": [
        "tensor"
      ],
      "execution_count": 7,
      "outputs": [
        {
          "output_type": "execute_result",
          "data": {
            "text/plain": [
              "tensor([[1., 2., 3.],\n",
              "        [3., 4., 2.]], device='cuda:0', dtype=torch.float64)"
            ]
          },
          "metadata": {
            "tags": []
          },
          "execution_count": 7
        }
      ]
    },
    {
      "cell_type": "code",
      "metadata": {
        "colab": {
          "base_uri": "https://localhost:8080/"
        },
        "id": "Pn_LUtobSE-s",
        "outputId": "cdff1894-0fdb-469f-91a3-0c6fb7a97890"
      },
      "source": [
        "tensor.dtype"
      ],
      "execution_count": 8,
      "outputs": [
        {
          "output_type": "execute_result",
          "data": {
            "text/plain": [
              "torch.float64"
            ]
          },
          "metadata": {
            "tags": []
          },
          "execution_count": 8
        }
      ]
    },
    {
      "cell_type": "code",
      "metadata": {
        "colab": {
          "base_uri": "https://localhost:8080/"
        },
        "id": "W4hWefg8SNwm",
        "outputId": "20122c06-e459-4d04-d646-de0ad3a8530a"
      },
      "source": [
        "tensor.device"
      ],
      "execution_count": 9,
      "outputs": [
        {
          "output_type": "execute_result",
          "data": {
            "text/plain": [
              "device(type='cuda', index=0)"
            ]
          },
          "metadata": {
            "tags": []
          },
          "execution_count": 9
        }
      ]
    },
    {
      "cell_type": "code",
      "metadata": {
        "colab": {
          "base_uri": "https://localhost:8080/"
        },
        "id": "3YDqLvksSPuo",
        "outputId": "fa8d5a7f-0fb1-419a-d10d-1a0a6e261106"
      },
      "source": [
        "tensor.shape"
      ],
      "execution_count": 10,
      "outputs": [
        {
          "output_type": "execute_result",
          "data": {
            "text/plain": [
              "torch.Size([2, 3])"
            ]
          },
          "metadata": {
            "tags": []
          },
          "execution_count": 10
        }
      ]
    },
    {
      "cell_type": "code",
      "metadata": {
        "colab": {
          "base_uri": "https://localhost:8080/"
        },
        "id": "syzju4LSSSEW",
        "outputId": "74956205-90fc-4d39-a958-10f05f55f6a2"
      },
      "source": [
        "tensor.requires_grad"
      ],
      "execution_count": 11,
      "outputs": [
        {
          "output_type": "execute_result",
          "data": {
            "text/plain": [
              "False"
            ]
          },
          "metadata": {
            "tags": []
          },
          "execution_count": 11
        }
      ]
    },
    {
      "cell_type": "code",
      "metadata": {
        "id": "YgqGxuJtSVhw"
      },
      "source": [
        "# We can set whether a tensor will be used for gradient descent \n",
        "tensor = torch.tensor([[1,2,3],[3,4,2]],dtype = torch.float64,device =device,requires_grad=True)"
      ],
      "execution_count": 12,
      "outputs": []
    },
    {
      "cell_type": "markdown",
      "metadata": {
        "id": "zabnEP7xSklK"
      },
      "source": [
        "###Other Initialisation Methods:"
      ]
    },
    {
      "cell_type": "code",
      "metadata": {
        "colab": {
          "base_uri": "https://localhost:8080/"
        },
        "id": "koVeXgGaSfjN",
        "outputId": "f4f9fa18-591e-4fd9-ff0a-4cbfaf3fe637"
      },
      "source": [
        "# Unitialised random data\n",
        "x = torch.empty(size = (4,3))\n",
        "x"
      ],
      "execution_count": 30,
      "outputs": [
        {
          "output_type": "execute_result",
          "data": {
            "text/plain": [
              "tensor([[2.8114e-11, 3.0873e-41, 3.3631e-44],\n",
              "        [0.0000e+00,        nan, 0.0000e+00],\n",
              "        [4.4721e+21, 1.5956e+25, 4.7399e+16],\n",
              "        [4.9115e-14, 1.4708e-41, 0.0000e+00]])"
            ]
          },
          "metadata": {
            "tags": []
          },
          "execution_count": 30
        }
      ]
    },
    {
      "cell_type": "code",
      "metadata": {
        "colab": {
          "base_uri": "https://localhost:8080/"
        },
        "id": "s0PjbCcKSzqB",
        "outputId": "da9e646e-56c2-4410-a6bc-e4258cc9ee7e"
      },
      "source": [
        "x_zero = torch.zeros((4,3))\n",
        "x_zero"
      ],
      "execution_count": 31,
      "outputs": [
        {
          "output_type": "execute_result",
          "data": {
            "text/plain": [
              "tensor([[0., 0., 0.],\n",
              "        [0., 0., 0.],\n",
              "        [0., 0., 0.],\n",
              "        [0., 0., 0.]])"
            ]
          },
          "metadata": {
            "tags": []
          },
          "execution_count": 31
        }
      ]
    },
    {
      "cell_type": "code",
      "metadata": {
        "colab": {
          "base_uri": "https://localhost:8080/"
        },
        "id": "PE8H1PIYTCE2",
        "outputId": "d649e533-98ea-40ab-9f06-e7ccdf267ca6"
      },
      "source": [
        "#Initialize random numbers inside the matrix ranging from 0-1\n",
        "x_rand = torch.rand((4,3))\n",
        "x_rand"
      ],
      "execution_count": 32,
      "outputs": [
        {
          "output_type": "execute_result",
          "data": {
            "text/plain": [
              "tensor([[0.8124, 0.0094, 0.9189],\n",
              "        [0.5737, 0.8045, 0.9988],\n",
              "        [0.7804, 0.7559, 0.5561],\n",
              "        [0.9858, 0.2953, 0.0328]])"
            ]
          },
          "metadata": {
            "tags": []
          },
          "execution_count": 32
        }
      ]
    },
    {
      "cell_type": "code",
      "metadata": {
        "colab": {
          "base_uri": "https://localhost:8080/"
        },
        "id": "Ky-i801XTY9k",
        "outputId": "b1fc035b-f2ec-49fc-8f92-638da9024f00"
      },
      "source": [
        "x_ones = torch.ones((4,3))\n",
        "x_ones"
      ],
      "execution_count": 33,
      "outputs": [
        {
          "output_type": "execute_result",
          "data": {
            "text/plain": [
              "tensor([[1., 1., 1.],\n",
              "        [1., 1., 1.],\n",
              "        [1., 1., 1.],\n",
              "        [1., 1., 1.]])"
            ]
          },
          "metadata": {
            "tags": []
          },
          "execution_count": 33
        }
      ]
    },
    {
      "cell_type": "code",
      "metadata": {
        "colab": {
          "base_uri": "https://localhost:8080/"
        },
        "id": "wvAtR_KZTeXD",
        "outputId": "3eaa79ae-6c67-4dac-fe61-9c4f02244bbb"
      },
      "source": [
        "# Identity matrix\n",
        "# Notice the change in function input instead of (n,m) we use n,m\n",
        "x_I = torch.eye(3,4)\n",
        "x_I"
      ],
      "execution_count": 34,
      "outputs": [
        {
          "output_type": "execute_result",
          "data": {
            "text/plain": [
              "tensor([[1., 0., 0., 0.],\n",
              "        [0., 1., 0., 0.],\n",
              "        [0., 0., 1., 0.]])"
            ]
          },
          "metadata": {
            "tags": []
          },
          "execution_count": 34
        }
      ]
    },
    {
      "cell_type": "code",
      "metadata": {
        "colab": {
          "base_uri": "https://localhost:8080/"
        },
        "id": "vS1cY45MT34B",
        "outputId": "370a3bec-c18e-4733-8521-2848e8aa7d26"
      },
      "source": [
        "# Tensor in a range \n",
        "x_range = torch.arange(start = 7,end = 10,step = 1)\n",
        "x_range"
      ],
      "execution_count": 35,
      "outputs": [
        {
          "output_type": "execute_result",
          "data": {
            "text/plain": [
              "tensor([7, 8, 9])"
            ]
          },
          "metadata": {
            "tags": []
          },
          "execution_count": 35
        }
      ]
    },
    {
      "cell_type": "code",
      "metadata": {
        "colab": {
          "base_uri": "https://localhost:8080/"
        },
        "id": "KX7-q1tWUJT1",
        "outputId": "28589e59-960f-4be3-fb52-3a565bdaf4e8"
      },
      "source": [
        "# Linear spaced Range tensor\n",
        "x_lin = torch.linspace(start = 100,end = 114.2,steps = 11)\n",
        "x_lin"
      ],
      "execution_count": 36,
      "outputs": [
        {
          "output_type": "execute_result",
          "data": {
            "text/plain": [
              "tensor([100.0000, 101.4200, 102.8400, 104.2600, 105.6800, 107.1000, 108.5200,\n",
              "        109.9400, 111.3600, 112.7800, 114.2000])"
            ]
          },
          "metadata": {
            "tags": []
          },
          "execution_count": 36
        }
      ]
    },
    {
      "cell_type": "code",
      "metadata": {
        "colab": {
          "base_uri": "https://localhost:8080/"
        },
        "id": "f9tAAEYBUhKP",
        "outputId": "81632fb4-8e25-486b-906d-f73d30e68de4"
      },
      "source": [
        "#Normally distributed tensor\n",
        "x_normal = torch.empty((3,3)).normal_(mean = 0,std = 1)\n",
        "x_normal"
      ],
      "execution_count": 37,
      "outputs": [
        {
          "output_type": "execute_result",
          "data": {
            "text/plain": [
              "tensor([[ 0.2610,  0.8278,  0.1662],\n",
              "        [-1.3363, -0.7768, -1.0985],\n",
              "        [ 1.1248,  2.3058,  1.1572]])"
            ]
          },
          "metadata": {
            "tags": []
          },
          "execution_count": 37
        }
      ]
    },
    {
      "cell_type": "code",
      "metadata": {
        "colab": {
          "base_uri": "https://localhost:8080/"
        },
        "id": "cJOylxzjVQVY",
        "outputId": "59ffb1ba-e9f4-4640-f0f2-517640d7e5a4"
      },
      "source": [
        "#Uniform distributed tensor\n",
        "x_uniform = torch.empty((3,3)).uniform_(0,1)\n",
        "x_uniform"
      ],
      "execution_count": 39,
      "outputs": [
        {
          "output_type": "execute_result",
          "data": {
            "text/plain": [
              "tensor([[0.2701, 0.0634, 0.8292],\n",
              "        [0.8500, 0.4835, 0.2250],\n",
              "        [0.2229, 0.7545, 0.6890]])"
            ]
          },
          "metadata": {
            "tags": []
          },
          "execution_count": 39
        }
      ]
    },
    {
      "cell_type": "code",
      "metadata": {
        "colab": {
          "base_uri": "https://localhost:8080/"
        },
        "id": "9m_Ab8JfVf8f",
        "outputId": "3f3fb5ea-e7ef-4518-c0b7-8a11c03ba50f"
      },
      "source": [
        "#Using diagonal matrix\n",
        "x_diag = torch.diag(torch.ones(3))\n",
        "x_diag"
      ],
      "execution_count": 40,
      "outputs": [
        {
          "output_type": "execute_result",
          "data": {
            "text/plain": [
              "tensor([[1., 0., 0.],\n",
              "        [0., 1., 0.],\n",
              "        [0., 0., 1.]])"
            ]
          },
          "metadata": {
            "tags": []
          },
          "execution_count": 40
        }
      ]
    },
    {
      "cell_type": "code",
      "metadata": {
        "id": "FZ3obB5LV1pE"
      },
      "source": [
        ""
      ],
      "execution_count": null,
      "outputs": []
    },
    {
      "cell_type": "markdown",
      "metadata": {
        "id": "J5vAC1dsV9yD"
      },
      "source": [
        "##Converting tensors' datatype"
      ]
    },
    {
      "cell_type": "code",
      "metadata": {
        "id": "lG6Bimu7WDM4"
      },
      "source": [
        "test_tensor = torch.arange(start = 0,end = 9,step= 1)"
      ],
      "execution_count": 2,
      "outputs": []
    },
    {
      "cell_type": "code",
      "metadata": {
        "id": "7jIxcffvvnvV"
      },
      "source": [
        "test_tensor = test_tensor.long()"
      ],
      "execution_count": 3,
      "outputs": []
    },
    {
      "cell_type": "code",
      "metadata": {
        "colab": {
          "base_uri": "https://localhost:8080/"
        },
        "id": "SJeQJqy0vyK0",
        "outputId": "253208e7-cd6e-453e-d73d-1f6acf32f72b"
      },
      "source": [
        "test_tensor.dtype"
      ],
      "execution_count": 5,
      "outputs": [
        {
          "output_type": "execute_result",
          "data": {
            "text/plain": [
              "torch.int64"
            ]
          },
          "metadata": {
            "tags": []
          },
          "execution_count": 5
        }
      ]
    },
    {
      "cell_type": "code",
      "metadata": {
        "id": "i17lcIJEv0Oj"
      },
      "source": [
        "test_tensor = test_tensor.short()"
      ],
      "execution_count": 6,
      "outputs": []
    },
    {
      "cell_type": "code",
      "metadata": {
        "colab": {
          "base_uri": "https://localhost:8080/"
        },
        "id": "lkqXHaeLv6rr",
        "outputId": "bddcb5bb-58f8-4ab3-c564-b11b2ae7a91b"
      },
      "source": [
        "test_tensor.dtype"
      ],
      "execution_count": 7,
      "outputs": [
        {
          "output_type": "execute_result",
          "data": {
            "text/plain": [
              "torch.int16"
            ]
          },
          "metadata": {
            "tags": []
          },
          "execution_count": 7
        }
      ]
    },
    {
      "cell_type": "code",
      "metadata": {
        "id": "CiqNApl4v8zm"
      },
      "source": [
        ""
      ],
      "execution_count": null,
      "outputs": []
    },
    {
      "cell_type": "markdown",
      "metadata": {
        "id": "miIP_GN8wCJy"
      },
      "source": [
        "##Numpy array to tensor"
      ]
    },
    {
      "cell_type": "code",
      "metadata": {
        "id": "4_hrzybzwE5Y"
      },
      "source": [
        "import numpy as np\n",
        "np_array = np.zeros((5,3))"
      ],
      "execution_count": 9,
      "outputs": []
    },
    {
      "cell_type": "code",
      "metadata": {
        "id": "wnpw5KsXwLYk"
      },
      "source": [
        "tensor = torch.from_numpy(np_array)"
      ],
      "execution_count": 10,
      "outputs": []
    },
    {
      "cell_type": "code",
      "metadata": {
        "id": "035YGjL2wVKr"
      },
      "source": [
        "np_array_back = tensor.numpy()"
      ],
      "execution_count": 11,
      "outputs": []
    },
    {
      "cell_type": "code",
      "metadata": {
        "id": "sDh5rp5-wak7"
      },
      "source": [
        ""
      ],
      "execution_count": null,
      "outputs": []
    }
  ]
}